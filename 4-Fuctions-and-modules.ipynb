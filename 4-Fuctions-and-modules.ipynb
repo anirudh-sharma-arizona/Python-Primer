{
 "cells": [
  {
   "cell_type": "markdown",
   "metadata": {},
   "source": [
    "# Functions and Modules\n",
    "- Fuctions\n",
    "    - Arguments\n",
    "    - Defining function\n",
    "    - Built-in functions\n",
    "- Modules and Packages\n",
    "    - Useful packages in Python"
   ]
  },
  {
   "cell_type": "markdown",
   "metadata": {},
   "source": [
    "## 1. Functions\n",
    "- Functions define set of codes that can be **reused**\n",
    "- In other words, programmers use functions to enhance reusability of their code\n",
    "- Below are some of most common functions used in Python\n",
    "    - ```print()```\n",
    "    - ```range()```\n",
    "    - ```len()```\n",
    "    - ```append()```"
   ]
  },
  {
   "cell_type": "code",
   "execution_count": 1,
   "metadata": {},
   "outputs": [
    {
     "name": "stdout",
     "output_type": "stream",
     "text": [
      "How are you?\n",
      "5\n",
      "[1, 2, 3, 4, 5, 6]\n"
     ]
    }
   ],
   "source": [
    "# usage of some common functions\n",
    "print('How are you?')          # print()\n",
    "alist = [1, 2, 3, 4, 5]\n",
    "length = len(alist)            # len()\n",
    "print(length)\n",
    "alist.append(6)                # append()\n",
    "print(alist)"
   ]
  },
  {
   "cell_type": "code",
   "execution_count": 2,
   "metadata": {
    "scrolled": false
   },
   "outputs": [
    {
     "name": "stdout",
     "output_type": "stream",
     "text": [
      "0\n",
      "1\n",
      "2\n",
      "3\n",
      "4\n"
     ]
    }
   ],
   "source": [
    "# range() function\n",
    "x = range(5)                    # range()\n",
    "for i in x:\n",
    "    print(i)"
   ]
  },
  {
   "cell_type": "markdown",
   "metadata": {},
   "source": [
    "### Arguments\n",
    "- Most Python functions have arguments (or parameters) \n",
    "- Arguments are assigned in ```'( )'```\n",
    "    - Some of them are optional (surrounded by ```[]```)\n",
    "    - Others are essential (if not specified, error occurs)\n",
    "- Example: ```range([start], stop ,[step])``` \n",
    "    - ```start```: first number of sequence\n",
    "    - ```stop```: maximum number in sequence (**not inclusive**)\n",
    "    - ```step```: difference between each two neighboring numbers in sequence (constant)"
   ]
  },
  {
   "cell_type": "code",
   "execution_count": 3,
   "metadata": {},
   "outputs": [
    {
     "name": "stdout",
     "output_type": "stream",
     "text": [
      "0\n",
      "1\n",
      "2\n"
     ]
    }
   ],
   "source": [
    "# one arguments \n",
    "for i in range(3):\n",
    "    print(i)"
   ]
  },
  {
   "cell_type": "code",
   "execution_count": 4,
   "metadata": {},
   "outputs": [
    {
     "name": "stdout",
     "output_type": "stream",
     "text": [
      "1\n",
      "2\n"
     ]
    }
   ],
   "source": [
    "# two arguments\n",
    "for i in range(1, 3):\n",
    "    print(i)"
   ]
  },
  {
   "cell_type": "code",
   "execution_count": 5,
   "metadata": {},
   "outputs": [
    {
     "name": "stdout",
     "output_type": "stream",
     "text": [
      "1\n",
      "3\n",
      "5\n",
      "7\n",
      "9\n"
     ]
    }
   ],
   "source": [
    "# with three arguments\n",
    "for i in range(1, 10, 2):\n",
    "    print(i)"
   ]
  },
  {
   "cell_type": "code",
   "execution_count": 6,
   "metadata": {},
   "outputs": [
    {
     "name": "stdout",
     "output_type": "stream",
     "text": [
      "5\n",
      "4\n",
      "3\n",
      "2\n"
     ]
    }
   ],
   "source": [
    "# with negative step size\n",
    "for i in range(5, 1, -1):\n",
    "    print(i)"
   ]
  },
  {
   "cell_type": "markdown",
   "metadata": {},
   "source": [
    "### Exercise 5-1.\n",
    "- Create list containing integers 1 to 100\n",
    "- Using ```range()``` and ```len()```, increment each element in list by 1"
   ]
  },
  {
   "cell_type": "code",
   "execution_count": 30,
   "metadata": {},
   "outputs": [
    {
     "name": "stdout",
     "output_type": "stream",
     "text": [
      "[1, 2, 3, 4, 5, 6, 7, 8, 9, 10, 11, 12, 13, 14, 15, 16, 17, 18, 19, 20, 21, 22, 23, 24, 25, 26, 27, 28, 29, 30, 31, 32, 33, 34, 35, 36, 37, 38, 39, 40, 41, 42, 43, 44, 45, 46, 47, 48, 49, 50, 51, 52, 53, 54, 55, 56, 57, 58, 59, 60, 61, 62, 63, 64, 65, 66, 67, 68, 69, 70, 71, 72, 73, 74, 75, 76, 77, 78, 79, 80, 81, 82, 83, 84, 85, 86, 87, 88, 89, 90, 91, 92, 93, 94, 95, 96, 97, 98, 99, 100]\n"
     ]
    }
   ],
   "source": [
    "## Your answer\n",
    "# creating a list\n",
    "r1 = range(1,101,1)\n",
    "l1 = list(r1)\n",
    "print(l1)"
   ]
  },
  {
   "cell_type": "code",
   "execution_count": 31,
   "metadata": {},
   "outputs": [
    {
     "name": "stdout",
     "output_type": "stream",
     "text": [
      "[2, 3, 4, 5, 6, 7, 8, 9, 10, 11, 12, 13, 14, 15, 16, 17, 18, 19, 20, 21, 22, 23, 24, 25, 26, 27, 28, 29, 30, 31, 32, 33, 34, 35, 36, 37, 38, 39, 40, 41, 42, 43, 44, 45, 46, 47, 48, 49, 50, 51, 52, 53, 54, 55, 56, 57, 58, 59, 60, 61, 62, 63, 64, 65, 66, 67, 68, 69, 70, 71, 72, 73, 74, 75, 76, 77, 78, 79, 80, 81, 82, 83, 84, 85, 86, 87, 88, 89, 90, 91, 92, 93, 94, 95, 96, 97, 98, 99, 100, 101]\n"
     ]
    }
   ],
   "source": [
    "# increment each element in list by 1\n",
    "# r1 = range(1,101,1)\n",
    "# l1 = list(r1)\n",
    "# print(l1)\n",
    "\n",
    "for i in range(100):\n",
    "    l1[i] += 1\n",
    "    i +=1\n",
    "    \n",
    "print(l1)"
   ]
  },
  {
   "cell_type": "markdown",
   "metadata": {},
   "source": [
    "### Defining a function\n",
    "- General structure of Python function is like below\n",
    "    - There could be any number of arguments in one function\n",
    "    - Instructions can be specified in code block (separated with ```tab```)\n",
    "    - Returns object as result\n",
    "        - If not specified, ```None``` is returned\n",
    "    \n",
    "```python\n",
    "def function_name(arg1, arg2, ..., argn):\n",
    "    <instructions>\n",
    "    return object\n",
    "```"
   ]
  },
  {
   "cell_type": "code",
   "execution_count": 32,
   "metadata": {},
   "outputs": [
    {
     "name": "stdout",
     "output_type": "stream",
     "text": [
      "I like Python\n"
     ]
    }
   ],
   "source": [
    "# function without argument & return object\n",
    "def my_function():\n",
    "    print('I like Python')\n",
    "\n",
    "my_function()     # calling a function"
   ]
  },
  {
   "cell_type": "code",
   "execution_count": 33,
   "metadata": {},
   "outputs": [
    {
     "name": "stdout",
     "output_type": "stream",
     "text": [
      "I like Python\n",
      "I like Java\n",
      "I like C++\n"
     ]
    }
   ],
   "source": [
    "# function with argument & return object\n",
    "def my_function(language):\n",
    "    sentence = 'I like ' + language\n",
    "    return sentence\n",
    "\n",
    "# By using arguments, we can enhance reusability of functions!!!\n",
    "x = my_function('Python')\n",
    "print(x)\n",
    "y = my_function('Java')\n",
    "print(y)\n",
    "z = my_function('C++')\n",
    "print(z)"
   ]
  },
  {
   "cell_type": "code",
   "execution_count": 34,
   "metadata": {},
   "outputs": [
    {
     "name": "stdout",
     "output_type": "stream",
     "text": [
      "I like Ruby\n",
      "I do not like C++\n",
      "I do not know Scala\n"
     ]
    }
   ],
   "source": [
    "# using if-else in function\n",
    "def my_function(language):\n",
    "    if language in ['Python', 'Java', 'Ruby']:\n",
    "        return 'I like ' + language\n",
    "    elif language in ['C++', 'C']:\n",
    "        return 'I do not like ' + language\n",
    "    else:\n",
    "        return 'I do not know ' + language\n",
    "\n",
    "print(my_function('Ruby'))\n",
    "print(my_function('C++'))\n",
    "print(my_function('Scala'))"
   ]
  },
  {
   "cell_type": "code",
   "execution_count": 35,
   "metadata": {},
   "outputs": [
    {
     "name": "stdout",
     "output_type": "stream",
     "text": [
      "I like Ruby\n",
      "I like Python\n",
      "I do not know Fortran\n",
      "I do not like C\n",
      "\n",
      "I like Java\n",
      "I do not like C++\n",
      "I do not know C#\n"
     ]
    }
   ],
   "source": [
    "# using for loop in function\n",
    "def my_function(languages):\n",
    "    for language in languages:\n",
    "        if language in ['Python', 'Java', 'Ruby']:\n",
    "            print('I like ' + language)\n",
    "        elif language in ['C++', 'C']:\n",
    "            print('I do not like ' + language)\n",
    "        else:\n",
    "            print('I do not know ' + language)\n",
    "\n",
    "my_function(['Ruby', 'Python', 'Fortran', 'C'])\n",
    "print()\n",
    "my_function(('Java', 'C++', 'C#'))"
   ]
  },
  {
   "cell_type": "markdown",
   "metadata": {},
   "source": [
    "### Exercise 5-2.\n",
    "- Create a function ```calculator()``` that performs simple operations between two integers\n",
    "    - Take in three arguments, ```integer_1, integer_2```, and  ```operation```\n",
    "        - If ```operation``` is equal to ```\"add\"```, perform addition of two integers ( ```integer_1 + integer_2```)\n",
    "        - If ```operation``` is equal to ```\"sub\"```, perform substraction of two integers ( ```integer_1 - integer_2```)\n",
    "        - If ```operation``` is equal to ```\"mul\"```, perform multiplication of two integers ( ```integer_1 X integer_2```)\n",
    "        - If ```operation``` is equal to ```\"div\"```, perform division of two integers ( ```integer_1 / integer_2```)"
   ]
  },
  {
   "cell_type": "code",
   "execution_count": 36,
   "metadata": {},
   "outputs": [
    {
     "name": "stdout",
     "output_type": "stream",
     "text": [
      "Please select operation -\n",
      "1. Add\n",
      "2. Subtract\n",
      "3. Multiply\n",
      "4. Divide\n",
      "\n",
      "Select operations form 1, 2, 3, 4 :2\n",
      "Enter first number: 1000\n",
      "Enter second number: 500\n",
      "1000 - 500 = 500\n"
     ]
    }
   ],
   "source": [
    "## Your answer\n",
    "\n",
    "# Python program for simple calculator\n",
    "  \n",
    "# Function to add two numbers \n",
    "def add(num1, num2):\n",
    "    return num1 + num2\n",
    "  \n",
    "# Function to subtract two numbers \n",
    "def subtract(num1, num2):\n",
    "    return num1 - num2\n",
    "  \n",
    "# Function to multiply two numbers\n",
    "def multiply(num1, num2):\n",
    "    return num1 * num2\n",
    "  \n",
    "# Function to divide two numbers\n",
    "def divide(num1, num2):\n",
    "    return num1 / num2\n",
    "  \n",
    "print(\"Please select operation -\\n\" \\\n",
    "        \"1. Add\\n\" \\\n",
    "        \"2. Subtract\\n\" \\\n",
    "        \"3. Multiply\\n\" \\\n",
    "        \"4. Divide\\n\")\n",
    "  \n",
    "  \n",
    "# Take input from the user \n",
    "select = int(input(\"Select operations form 1, 2, 3, 4 :\"))\n",
    "  \n",
    "number_1 = int(input(\"Enter first number: \"))\n",
    "number_2 = int(input(\"Enter second number: \"))\n",
    "  \n",
    "if select == 1:\n",
    "    print(number_1, \"+\", number_2, \"=\",\n",
    "                    add(number_1, number_2))\n",
    "  \n",
    "elif select == 2:\n",
    "    print(number_1, \"-\", number_2, \"=\",\n",
    "                    subtract(number_1, number_2))\n",
    "  \n",
    "elif select == 3:\n",
    "    print(number_1, \"*\", number_2, \"=\",\n",
    "                    multiply(number_1, number_2))\n",
    "  \n",
    "elif select == 4:\n",
    "    print(number_1, \"/\", number_2, \"=\",\n",
    "                    divide(number_1, number_2))\n",
    "else:\n",
    "    print(\"Invalid input\")  \n"
   ]
  },
  {
   "cell_type": "markdown",
   "metadata": {},
   "source": [
    "### Built-in functions\n",
    "- Python provides many powerful built-in functions\n",
    "- Always remember, *\"do not reinvent the wheel!\"*\n",
    "- Useful built-in functions for data analysis\n",
    "```ruby\n",
    "abs()\n",
    "append()\n",
    "enumerate()\n",
    "int(), float(), str()\n",
    "len()\n",
    "list(), tuple(), set(), dict()\n",
    "max(), min()\n",
    "open()\n",
    "range()\n",
    "sorted()\n",
    "type()\n",
    "```"
   ]
  },
  {
   "cell_type": "markdown",
   "metadata": {},
   "source": [
    "### Exercise 5-3.\n",
    "- Using built-in functions above, perform below instructions\n",
    "    - Create a tuple containing integers ```2, 4, 6, 8, 10```\n",
    "    - Convert the tuple into a list\n",
    "    - Convert each element in list into string\n",
    "    - Add elements ```'x', 'y', 'z'``` to list\n",
    "    - Print each element in list "
   ]
  },
  {
   "cell_type": "code",
   "execution_count": 57,
   "metadata": {},
   "outputs": [],
   "source": [
    "## Your answer\n",
    "# creating a list\n",
    "list1 = [2, 4, 6, 8, 10]"
   ]
  },
  {
   "cell_type": "code",
   "execution_count": 58,
   "metadata": {},
   "outputs": [],
   "source": [
    "# converting the list to a tuple\n",
    "tuple1 = tuple(list1)"
   ]
  },
  {
   "cell_type": "code",
   "execution_count": 59,
   "metadata": {},
   "outputs": [
    {
     "name": "stdout",
     "output_type": "stream",
     "text": [
      "(2, 4, 6, 8, 10)\n"
     ]
    }
   ],
   "source": [
    "print(tuple1)"
   ]
  },
  {
   "cell_type": "code",
   "execution_count": 66,
   "metadata": {},
   "outputs": [],
   "source": [
    "# converting the tuple back to list\n",
    "list2 = list(tuple1)"
   ]
  },
  {
   "cell_type": "code",
   "execution_count": 67,
   "metadata": {},
   "outputs": [
    {
     "name": "stdout",
     "output_type": "stream",
     "text": [
      "[2, 4, 6, 8, 10]\n"
     ]
    }
   ],
   "source": [
    "print(list2)"
   ]
  },
  {
   "cell_type": "code",
   "execution_count": 68,
   "metadata": {},
   "outputs": [
    {
     "name": "stdout",
     "output_type": "stream",
     "text": [
      "[2, 4, 6, 8, 10]\n"
     ]
    },
    {
     "data": {
      "text/plain": [
       "str"
      ]
     },
     "execution_count": 68,
     "metadata": {},
     "output_type": "execute_result"
    }
   ],
   "source": [
    "# converting each element in list into string\n",
    "string1 = str(list2)\n",
    "print(string1)\n",
    "type(string1[0])"
   ]
  },
  {
   "cell_type": "code",
   "execution_count": 69,
   "metadata": {},
   "outputs": [
    {
     "name": "stdout",
     "output_type": "stream",
     "text": [
      "[2, 4, 6, 8, 10, 'x']\n"
     ]
    }
   ],
   "source": [
    "list2.append('x')\n",
    "print(list2)"
   ]
  },
  {
   "cell_type": "code",
   "execution_count": 70,
   "metadata": {},
   "outputs": [
    {
     "name": "stdout",
     "output_type": "stream",
     "text": [
      "[2, 4, 6, 8, 10, 'x', 'y']\n"
     ]
    }
   ],
   "source": [
    "list2.append('y')\n",
    "print(list2)"
   ]
  },
  {
   "cell_type": "code",
   "execution_count": 71,
   "metadata": {},
   "outputs": [
    {
     "name": "stdout",
     "output_type": "stream",
     "text": [
      "[2, 4, 6, 8, 10, 'x', 'y', 'z']\n"
     ]
    }
   ],
   "source": [
    "list2.append('z')\n",
    "print(list2)"
   ]
  },
  {
   "cell_type": "markdown",
   "metadata": {},
   "source": [
    "## 2. Modules and Packages\n",
    "- Modules are Python files (```.py```) that can be accessed by other Python files or interpreters.\n",
    "- Packages are hierarchical aggregates of modules, which allow access via ```dot(.)```\n",
    "- Like built-in functions, Python provides many default modules and packages that are handy and useful\n",
    "    - In Anaconda, a lot more packages for data analysis are included (e.g., ```NumPy```, ```Pandas```, ```Scikit-learn```, ```BeautifulSoup```, ...)\n",
    "    \n",
    "```ruby\n",
    "import package_name [as alias]\n",
    "import package_name.module_name\n",
    "from package_name import module_name\n",
    "from package_name import *\n",
    "\n",
    "import module_name [as alias]\n",
    "import module_name.function_name\n",
    "from module_name import function_name\n",
    "from module_name import *\n",
    "```\n",
    "\n",
    "<img src=\"https://qph.ec.quoracdn.net/main-qimg-0aae16bb7e3c8c148078d24d4da94dba-c\" style=\"width: 400px\"/>"
   ]
  },
  {
   "cell_type": "code",
   "execution_count": 72,
   "metadata": {},
   "outputs": [
    {
     "name": "stdout",
     "output_type": "stream",
     "text": [
      "22026.465794806718\n",
      "22026.465794806718\n",
      "22026.465794806718\n",
      "22026.465794806718\n"
     ]
    }
   ],
   "source": [
    "import math         # import package\n",
    "x = math.exp(10)\n",
    "print(x)\n",
    "\n",
    "import math as m     # use alias\n",
    "x = m.exp(10)\n",
    "print(x)\n",
    "\n",
    "from math import exp  # import function from package\n",
    "x = exp(10)\n",
    "print(x)\n",
    "\n",
    "from math import *    # import all classes/functions in package\n",
    "x = exp(10)\n",
    "print(x)"
   ]
  },
  {
   "cell_type": "markdown",
   "metadata": {},
   "source": [
    "### Useful packages in Python\n",
    "- Some commonly used Python default packages (from \"\")\n",
    "    - The Python Standard Library for Python 3.x: https://docs.python.org/3/library/index.html\n",
    "```ruby\n",
    "collections\n",
    "datetime\n",
    "math\n",
    "time\n",
    "urllib\n",
    "itertools\n",
    "```\n",
    "- Highly useful Python packages for Data Analysis (included in Anaconda)\n",
    "    - https://docs.python.org/3/library/index.html\n",
    "```ruby\n",
    "jupyter\n",
    "matplotlib\n",
    "nltk\n",
    "networkx\n",
    "numpy\n",
    "pandas\n",
    "scikit-learn\n",
    "scipy\n",
    "xlrd\n",
    "```"
   ]
  },
  {
   "cell_type": "code",
   "execution_count": 73,
   "metadata": {},
   "outputs": [
    {
     "name": "stdout",
     "output_type": "stream",
     "text": [
      "Counter({'f': 4, 'c': 3, 'd': 3, 'a': 2, 'e': 2, 'b': 1})\n",
      "[('f', 4), ('c', 3), ('d', 3)]\n"
     ]
    }
   ],
   "source": [
    "# usage of Counter() in collections\n",
    "from collections import Counter\n",
    "l = ['a', 'a', 'b', 'c', 'c', 'c', 'd', 'd', 'd', 'e', 'e', 'f', 'f', 'f', 'f']\n",
    "counts = Counter(l)\n",
    "print(counts)\n",
    "print(counts.most_common(3))"
   ]
  },
  {
   "cell_type": "code",
   "execution_count": 74,
   "metadata": {},
   "outputs": [
    {
     "ename": "AttributeError",
     "evalue": "module 'time' has no attribute 'clock'",
     "output_type": "error",
     "traceback": [
      "\u001b[1;31m---------------------------------------------------------------------------\u001b[0m",
      "\u001b[1;31mAttributeError\u001b[0m                            Traceback (most recent call last)",
      "\u001b[1;32mC:\\Users\\UAL-LA~1\\AppData\\Local\\Temp/ipykernel_11804/1300240704.py\u001b[0m in \u001b[0;36m<module>\u001b[1;34m\u001b[0m\n\u001b[0;32m      1\u001b[0m \u001b[1;31m# usage of time\u001b[0m\u001b[1;33m\u001b[0m\u001b[1;33m\u001b[0m\u001b[0m\n\u001b[0;32m      2\u001b[0m \u001b[1;32mimport\u001b[0m \u001b[0mtime\u001b[0m\u001b[1;33m\u001b[0m\u001b[1;33m\u001b[0m\u001b[0m\n\u001b[1;32m----> 3\u001b[1;33m \u001b[0mprint\u001b[0m\u001b[1;33m(\u001b[0m\u001b[0mtime\u001b[0m\u001b[1;33m.\u001b[0m\u001b[0mclock\u001b[0m\u001b[1;33m(\u001b[0m\u001b[1;33m)\u001b[0m\u001b[1;33m)\u001b[0m\u001b[1;33m\u001b[0m\u001b[1;33m\u001b[0m\u001b[0m\n\u001b[0m\u001b[0;32m      4\u001b[0m \u001b[0mtime\u001b[0m\u001b[1;33m.\u001b[0m\u001b[0msleep\u001b[0m\u001b[1;33m(\u001b[0m\u001b[1;36m5\u001b[0m\u001b[1;33m)\u001b[0m\u001b[1;33m\u001b[0m\u001b[1;33m\u001b[0m\u001b[0m\n\u001b[0;32m      5\u001b[0m \u001b[0mprint\u001b[0m\u001b[1;33m(\u001b[0m\u001b[0mtime\u001b[0m\u001b[1;33m.\u001b[0m\u001b[0mclock\u001b[0m\u001b[1;33m(\u001b[0m\u001b[1;33m)\u001b[0m\u001b[1;33m)\u001b[0m\u001b[1;33m\u001b[0m\u001b[1;33m\u001b[0m\u001b[0m\n",
      "\u001b[1;31mAttributeError\u001b[0m: module 'time' has no attribute 'clock'"
     ]
    }
   ],
   "source": [
    "# usage of time\n",
    "import time\n",
    "print(time.clock())\n",
    "time.sleep(5)\n",
    "print(time.clock())"
   ]
  },
  {
   "cell_type": "code",
   "execution_count": 75,
   "metadata": {},
   "outputs": [
    {
     "name": "stdout",
     "output_type": "stream",
     "text": [
      "('Jane', 'Mike')\n",
      "('Jane', 'Johnny')\n",
      "('Lisa', 'Mike')\n",
      "('Lisa', 'Johnny')\n",
      "('Lindsay', 'Mike')\n",
      "('Lindsay', 'Johnny')\n",
      "\n",
      "('x', 'y')\n",
      "('x', 'z')\n",
      "('y', 'z')\n",
      "\n",
      "('x', 'y')\n",
      "('x', 'z')\n",
      "('y', 'x')\n",
      "('y', 'z')\n",
      "('z', 'x')\n",
      "('z', 'y')\n"
     ]
    }
   ],
   "source": [
    "# usage of itertools\n",
    "import itertools\n",
    "girls = ['Jane', 'Lisa', 'Lindsay']\n",
    "boys = ['Mike', 'Johnny']\n",
    "# cartesian product\n",
    "for c in itertools.product(girls, boys):\n",
    "    print(c)\n",
    "print()\n",
    "# combination of elements\n",
    "for c in itertools.combinations('xyz', 2):\n",
    "    print(c)\n",
    "print()\n",
    "# permutation of elements\n",
    "for c in itertools.permutations('xyz', 2):\n",
    "    print(c)"
   ]
  },
  {
   "cell_type": "markdown",
   "metadata": {},
   "source": [
    "### Exercise 5-4.\n",
    "- Using ```collections.Counter```, print elements that show **over 2 times** in below list\n",
    "<br>\n",
    "```ruby\n",
    "l = [1, 1, 7, 7, 7, 4, 4, 4, 2, 1, 5, 5, 9, 11, 3, 'a', 'x', 9, 8, 'b', 'b', 'z', 'b']```"
   ]
  },
  {
   "cell_type": "code",
   "execution_count": 79,
   "metadata": {},
   "outputs": [
    {
     "name": "stdout",
     "output_type": "stream",
     "text": [
      "[1, 7, 4, 'b']\n"
     ]
    }
   ],
   "source": [
    "lst = [1, 1, 7, 7, 7, 4, 4, 4, 2, 1, 5, 5, 9, 11, 3, 'a', 'x', 9, 8, 'b', 'b', 'z', 'b']\n",
    "lst2=[]\n",
    "[lst2.append(x) for x in lst if lst.count(x)>2 and x not in lst2]\n",
    "print(lst2)"
   ]
  },
  {
   "cell_type": "code",
   "execution_count": 83,
   "metadata": {},
   "outputs": [
    {
     "name": "stdout",
     "output_type": "stream",
     "text": [
      "[(1, 3), (7, 3), (4, 3), ('b', 3)]\n"
     ]
    }
   ],
   "source": [
    "# usage of Counter() in collections\n",
    "from collections import Counter\n",
    "l = [1, 1, 7, 7, 7, 4, 4, 4, 2, 1, 5, 5, 9, 11, 3, 'a', 'x', 9, 8, 'b', 'b', 'z', 'b']\n",
    "counts = Counter(l)\n",
    "\n",
    "print(counts.most_common(4))"
   ]
  },
  {
   "cell_type": "markdown",
   "metadata": {},
   "source": [
    "### Exercise 5-5.\n",
    "- Using functions in ```math``` library, calculate ```y``` and print result\n",
    "<br>\n",
    "$y = e^{\\pi} + 10$"
   ]
  },
  {
   "cell_type": "code",
   "execution_count": 82,
   "metadata": {},
   "outputs": [
    {
     "name": "stdout",
     "output_type": "stream",
     "text": [
      "33.14069263277926\n"
     ]
    }
   ],
   "source": [
    "## Your answer\n",
    "import math         # import package\n",
    "y = math.exp(pi) + 10\n",
    "print(y)"
   ]
  },
  {
   "cell_type": "markdown",
   "metadata": {},
   "source": [
    "### Exercise 5-6.\n",
    "- Certain lock has a password that is made of two letters and two numbers (e.g., ```K-G-1-4```)\n",
    "- Find number of all possible combinations of password that satisfies conditions:\n",
    "    - First letter is uppercase vowel\n",
    "    - Second letter is any letter in alphabet from \"a\" to \"e\", case-insensitive (i.e., can be uppercase or lowercase)\n",
    "    - First number is prime number under 5 (5 not inclusive)\n",
    "    - Second number is even number under 7 "
   ]
  },
  {
   "cell_type": "code",
   "execution_count": 89,
   "metadata": {},
   "outputs": [],
   "source": [
    "## Your answer\n",
    "from itertools import permutations"
   ]
  }
 ],
 "metadata": {
  "kernelspec": {
   "display_name": "Python 3 (ipykernel)",
   "language": "python",
   "name": "python3"
  },
  "language_info": {
   "codemirror_mode": {
    "name": "ipython",
    "version": 3
   },
   "file_extension": ".py",
   "mimetype": "text/x-python",
   "name": "python",
   "nbconvert_exporter": "python",
   "pygments_lexer": "ipython3",
   "version": "3.9.7"
  }
 },
 "nbformat": 4,
 "nbformat_minor": 2
}
