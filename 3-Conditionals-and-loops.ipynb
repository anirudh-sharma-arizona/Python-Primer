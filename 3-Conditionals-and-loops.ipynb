{
 "cells": [
  {
   "cell_type": "markdown",
   "metadata": {},
   "source": [
    "# Conditionals and Loops\n",
    "- if statements\n",
    "- for/while loops"
   ]
  },
  {
   "cell_type": "markdown",
   "metadata": {},
   "source": [
    "## 1. if statements\n",
    "- In general, if statements have below structure\n",
    "<br>\n",
    "if **boolean**:\n",
    "<br>\n",
    "&nbsp;&nbsp;&nbsp;&nbsp;&nbsp;&nbsp;&nbsp;&nbsp;**do sth**\n",
    "<br>\n",
    "elif **boolean**:\n",
    "<br>\n",
    "&nbsp;&nbsp;&nbsp;&nbsp;&nbsp;&nbsp;&nbsp;&nbsp;**do sth**\n",
    "<br>\n",
    "else:\n",
    "<br>\n",
    "&nbsp;&nbsp;&nbsp;&nbsp;&nbsp;&nbsp;&nbsp;&nbsp;**do sth**\n",
    "\n",
    "- elif and else statements are optional"
   ]
  },
  {
   "cell_type": "code",
   "execution_count": 37,
   "metadata": {},
   "outputs": [
    {
     "name": "stdout",
     "output_type": "stream",
     "text": [
      "True\n"
     ]
    }
   ],
   "source": [
    "# basic if statements\n",
    "if True:\n",
    "    print('True')\n",
    "if False:\n",
    "    print('False')"
   ]
  },
  {
   "cell_type": "code",
   "execution_count": 38,
   "metadata": {},
   "outputs": [
    {
     "name": "stdout",
     "output_type": "stream",
     "text": [
      "x is positive\n"
     ]
    }
   ],
   "source": [
    "# usage of if-elif-else \n",
    "x = 5\n",
    "if x > 0:\n",
    "    print('x is positive')\n",
    "elif x < 0:\n",
    "    print('x is negative')\n",
    "else:\n",
    "    print('x is zero')"
   ]
  },
  {
   "cell_type": "code",
   "execution_count": 39,
   "metadata": {},
   "outputs": [
    {
     "name": "stdout",
     "output_type": "stream",
     "text": [
      "x is positive\n"
     ]
    }
   ],
   "source": [
    "# usage of nested if-else\n",
    "# note that this is equivalent to the code block above\n",
    "x = 5\n",
    "if x > 0:\n",
    "    print('x is positive')\n",
    "else:\n",
    "    if x < 0:\n",
    "        print('x is negative')\n",
    "    else:\n",
    "        print('x is zero')"
   ]
  },
  {
   "cell_type": "markdown",
   "metadata": {
    "collapsed": true
   },
   "source": [
    "### Exercise 3-1.\n",
    "- Define two integers x = 10 and y = 5\n",
    "- Compare x and y:\n",
    "    - if x > y, print out 'x is larger than y'\n",
    "    - if x = y, print out 'x and y are equal'\n",
    "    - if x < y, print out 'y is larger than y'"
   ]
  },
  {
   "cell_type": "code",
   "execution_count": 40,
   "metadata": {},
   "outputs": [
    {
     "name": "stdout",
     "output_type": "stream",
     "text": [
      "x is larger than y\n"
     ]
    }
   ],
   "source": [
    "## Your answer\n",
    "x = 10\n",
    "y = 5\n",
    "\n",
    "if x > y:\n",
    "    print('x is larger than y')\n",
    "elif x < y:\n",
    "    print('y is larger than x')\n",
    "else:\n",
    "    print('x and y are equal')"
   ]
  },
  {
   "cell_type": "markdown",
   "metadata": {},
   "source": [
    "### Exercise 3-2.\n",
    "- Define two integers x = 10 and y = 4\n",
    "- Divide x and y and:\n",
    "    - if remainder is zero, print out 'Zero'\n",
    "    - if remainder is non-zero, \n",
    "        - if remainder is even, print out 'Even'\n",
    "        - if remainder is odd, print out 'Odd'"
   ]
  },
  {
   "cell_type": "code",
   "execution_count": 41,
   "metadata": {},
   "outputs": [
    {
     "name": "stdout",
     "output_type": "stream",
     "text": [
      "Even\n"
     ]
    }
   ],
   "source": [
    "## Your answer\n",
    "x = 10\n",
    "y = 4\n",
    "if x % y == 0:\n",
    "    print('Zero')\n",
    "else: \n",
    "    if (x % y) % 2 == 0:\n",
    "        print('Even')\n",
    "    else:\n",
    "        print('Odd')"
   ]
  },
  {
   "cell_type": "markdown",
   "metadata": {},
   "source": [
    "### Exercise 3-3.\n",
    "- Define tuple t1 = (2, 4, 8, 10, 'a', 'b', 'c')\n",
    "- Perform operations:\n",
    "    - if 2 is in t1, print out '2 is in t1'\n",
    "    - if 'd' is in t1, print out '\"d\" is in t1'"
   ]
  },
  {
   "cell_type": "code",
   "execution_count": 42,
   "metadata": {},
   "outputs": [
    {
     "name": "stdout",
     "output_type": "stream",
     "text": [
      "2 is in t1\n",
      "\"d\" is not in t1\n"
     ]
    }
   ],
   "source": [
    "## Your answer\n",
    "t1 = (2, 4, 8, 10, 'a', 'b', 'c')\n",
    "\n",
    "if (2 in t1) == True:\n",
    "    print('2 is in t1')\n",
    "else:\n",
    "    print('2 is not in t1')\n",
    "\n",
    "if ('d' in t1) == True:\n",
    "    print('\"d\" is in t1')\n",
    "else:\n",
    "    print('\"d\" is not in t1')    "
   ]
  },
  {
   "cell_type": "markdown",
   "metadata": {},
   "source": [
    "## 2. for loops\n",
    "- for loops are highly efficient when performing repetitive tasks\n",
    "- In general, for loops have below structure\n",
    "<br>\n",
    "for **element** in **iterable**:\n",
    "<br>\n",
    "&nbsp;&nbsp;&nbsp;&nbsp;&nbsp;&nbsp;&nbsp;&nbsp;**do sth**    \n",
    "<br>\n",
    "- For each **element** in **iterable** object, we *repeat* some behavior "
   ]
  },
  {
   "cell_type": "code",
   "execution_count": 43,
   "metadata": {},
   "outputs": [
    {
     "name": "stdout",
     "output_type": "stream",
     "text": [
      "Johnny\n",
      "Jane\n",
      "Sam\n",
      "Kim\n"
     ]
    }
   ],
   "source": [
    "# iterating with for loop\n",
    "names = ['Johnny', 'Jane', 'Sam', 'Kim']\n",
    "# as there are four elements in list, actions are repeated for four times\n",
    "for name in names:\n",
    "    print(name)"
   ]
  },
  {
   "cell_type": "code",
   "execution_count": 44,
   "metadata": {},
   "outputs": [
    {
     "name": "stdout",
     "output_type": "stream",
     "text": [
      "Johnny :  1\n",
      "Jane :  2\n",
      "Sam :  3\n",
      "Kim :  4\n"
     ]
    }
   ],
   "source": [
    "# iterating with for loop - unpacking tuples\n",
    "ids = [('Johnny', 1), ('Jane', 2), ('Sam', 3), ('Kim', 4)]\n",
    "# each tuple can be unpacked to two separate variables\n",
    "for name, identifier in ids:\n",
    "    print(name , ': ', identifier)    # print out each name and identifier"
   ]
  },
  {
   "cell_type": "code",
   "execution_count": 45,
   "metadata": {},
   "outputs": [
    {
     "name": "stdout",
     "output_type": "stream",
     "text": [
      "Jane\n",
      "Kim\n"
     ]
    }
   ],
   "source": [
    "# using for loop and if statement together\n",
    "ids = [('Johnny', 1), ('Jane', 2), ('Sam', 3), ('Kim', 4)]\n",
    "for name, identifier in ids:\n",
    "    if identifier % 2 == 0:\n",
    "        print(name)    # print names with only even identifiers"
   ]
  },
  {
   "cell_type": "markdown",
   "metadata": {},
   "source": [
    "### Exercise 3-4.\n",
    "- Create list l1 that contains integers 1 from 10\n",
    "- Print out only even integers in l1"
   ]
  },
  {
   "cell_type": "code",
   "execution_count": 46,
   "metadata": {},
   "outputs": [
    {
     "name": "stdout",
     "output_type": "stream",
     "text": [
      "2\n",
      "4\n",
      "6\n",
      "8\n",
      "10\n"
     ]
    }
   ],
   "source": [
    "## Your answer\n",
    "l1 = [1, 2, 3, 4, 5, 6, 7, 8, 9, 10]\n",
    "for i in l1:\n",
    "    if i % 2 == 0:\n",
    "        print(i)"
   ]
  },
  {
   "cell_type": "markdown",
   "metadata": {},
   "source": [
    "## Exercise 3-5.\n",
    "- Create list l2 that containts strings 'Johnny', 'Jane', 'Sam', 'Kim'\n",
    "- Print out only names that starts with alphabet 'J'"
   ]
  },
  {
   "cell_type": "code",
   "execution_count": 47,
   "metadata": {},
   "outputs": [],
   "source": [
    "l2 = ['Johnny', 'Jane', 'Sam', 'Kim']"
   ]
  },
  {
   "cell_type": "code",
   "execution_count": 48,
   "metadata": {},
   "outputs": [
    {
     "name": "stdout",
     "output_type": "stream",
     "text": [
      "Johnny\n",
      "Jane\n"
     ]
    }
   ],
   "source": [
    "for i in l2:\n",
    "    if i.startswith('J'):\n",
    "        print(i)"
   ]
  },
  {
   "cell_type": "markdown",
   "metadata": {},
   "source": [
    "## 3. while loops\n",
    "- while loops perform similarly repetitive actions as for loops\n",
    "- In general, for loops have below structure\n",
    "<br>\n",
    "while **boolean**:\n",
    "<br>\n",
    "&nbsp;&nbsp;&nbsp;&nbsp;&nbsp;&nbsp;&nbsp;&nbsp;**do sth**    \n",
    "<br>\n",
    "- Perform some action repetitively until **boolean** conditional statement is not satisfied (i.e., False)"
   ]
  },
  {
   "cell_type": "code",
   "execution_count": 49,
   "metadata": {},
   "outputs": [
    {
     "name": "stdout",
     "output_type": "stream",
     "text": [
      "0\n",
      "1\n",
      "2\n",
      "3\n",
      "4\n",
      "5\n",
      "6\n",
      "7\n",
      "8\n",
      "9\n"
     ]
    }
   ],
   "source": [
    "# perform action for 10 times\n",
    "x = 0\n",
    "while x < 10:\n",
    "    print(x)\n",
    "    x += 1"
   ]
  },
  {
   "cell_type": "code",
   "execution_count": 50,
   "metadata": {},
   "outputs": [
    {
     "name": "stdout",
     "output_type": "stream",
     "text": [
      "0\n",
      "1\n",
      "2\n",
      "3\n",
      "4\n",
      "5\n",
      "6\n",
      "7\n",
      "8\n",
      "9\n"
     ]
    }
   ],
   "source": [
    "# below code is identical to above one\n",
    "alist = [0, 1, 2, 3, 4, 5, 6, 7, 8, 9]\n",
    "for i in alist:\n",
    "    print(i)"
   ]
  },
  {
   "cell_type": "code",
   "execution_count": 51,
   "metadata": {},
   "outputs": [
    {
     "name": "stdout",
     "output_type": "stream",
     "text": [
      "0\n",
      "1\n",
      "2\n",
      "3\n",
      "4\n"
     ]
    }
   ],
   "source": [
    "# exiting while loop with break\n",
    "i = 0\n",
    "alist = [0, 1, 2, 3, 4, 5, 6, 7, 8, 9]\n",
    "while True:\n",
    "    print(alist[i])\n",
    "    i += 1\n",
    "    if i == 5:\n",
    "        break"
   ]
  },
  {
   "cell_type": "markdown",
   "metadata": {},
   "source": [
    "### Exercise 3-6.\n",
    "- Perform same action in 3-4, using while loop instead of for loop"
   ]
  },
  {
   "cell_type": "code",
   "execution_count": 52,
   "metadata": {},
   "outputs": [
    {
     "name": "stdout",
     "output_type": "stream",
     "text": [
      "2\n",
      "4\n",
      "6\n",
      "8\n",
      "10\n"
     ]
    }
   ],
   "source": [
    "## Your answer\n",
    "l1 = [1, 2, 3, 4, 5, 6, 7, 8, 9, 10]\n",
    "i = 0\n",
    "\n",
    "while i < len(l1):\n",
    "    if l1[i] % 2 == 0:\n",
    "        print(l1[i])\n",
    "    i += 1"
   ]
  },
  {
   "cell_type": "markdown",
   "metadata": {},
   "source": [
    "### Exercise 3-7.\n",
    "- Perform same action in 3-5, using while loop instead of for loop"
   ]
  },
  {
   "cell_type": "code",
   "execution_count": 53,
   "metadata": {},
   "outputs": [
    {
     "name": "stdout",
     "output_type": "stream",
     "text": [
      "Johnny\n",
      "Jane\n"
     ]
    }
   ],
   "source": [
    "## Your answer\n",
    "l2 = ['Johnny', 'Jane', 'Sam', 'Kim']\n",
    "i = 0\n",
    "\n",
    "while i < len(l2):\n",
    "    if l2[i].startswith('J'):\n",
    "        print(l2[i])\n",
    "    i += 1"
   ]
  }
 ],
 "metadata": {
  "kernelspec": {
   "display_name": "Python 3 (ipykernel)",
   "language": "python",
   "name": "python3"
  },
  "language_info": {
   "codemirror_mode": {
    "name": "ipython",
    "version": 3
   },
   "file_extension": ".py",
   "mimetype": "text/x-python",
   "name": "python",
   "nbconvert_exporter": "python",
   "pygments_lexer": "ipython3",
   "version": "3.9.7"
  }
 },
 "nbformat": 4,
 "nbformat_minor": 2
}
